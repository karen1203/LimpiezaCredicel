{
  "nbformat": 4,
  "nbformat_minor": 0,
  "metadata": {
    "colab": {
      "provenance": [],
      "authorship_tag": "ABX9TyNhR6z75GNBtqql5YkVQtuz",
      "include_colab_link": true
    },
    "kernelspec": {
      "name": "python3",
      "display_name": "Python 3"
    },
    "language_info": {
      "name": "python"
    }
  },
  "cells": [
    {
      "cell_type": "markdown",
      "metadata": {
        "id": "view-in-github",
        "colab_type": "text"
      },
      "source": [
        "<a href=\"https://colab.research.google.com/github/karen1203/LimpiezaCredicel/blob/main/Propuesta_dos.ipynb\" target=\"_parent\"><img src=\"https://colab.research.google.com/assets/colab-badge.svg\" alt=\"Open In Colab\"/></a>"
      ]
    },
    {
      "cell_type": "code",
      "execution_count": 2,
      "metadata": {
        "id": "lxlKtI8qQcqa"
      },
      "outputs": [],
      "source": [
        "import pandas as pd\n",
        "import numpy as np\n",
        "import matplotlib.pyplot as plt\n",
        "import seaborn as sns"
      ]
    },
    {
      "cell_type": "code",
      "source": [
        "credi= pd.read_excel(\"cuentas_credicel.xlsx\")"
      ],
      "metadata": {
        "id": "ow0TjnrBQzN-"
      },
      "execution_count": 3,
      "outputs": []
    },
    {
      "cell_type": "code",
      "source": [
        "credi"
      ],
      "metadata": {
        "colab": {
          "base_uri": "https://localhost:8080/",
          "height": 826
        },
        "id": "4gJCS2UHSvWO",
        "outputId": "96dea853-b321-4dd6-87a9-0018a2c14174"
      },
      "execution_count": 4,
      "outputs": [
        {
          "output_type": "execute_result",
          "data": {
            "text/plain": [
              "       folio       tag  folio_solicitud               fecha     marca  \\\n",
              "0          3  HDNAWQ3A               30 2021-11-12 19:00:05       ZTE   \n",
              "1          4  M418YNR4               33 2021-11-12 19:15:58  MOTOROLA   \n",
              "2          5  SZ7V3NZT               37 2021-11-13 14:13:08       ZTE   \n",
              "3          6  9I08UIQZ               38 2021-11-13 15:45:39       ZTE   \n",
              "4          7  JMF4LKYU               44 2021-11-13 16:10:15  MOTOROLA   \n",
              "...      ...       ...              ...                 ...       ...   \n",
              "22730  22967  92KQVRIX            96502 2023-04-18 18:45:00  Motorola   \n",
              "22731  22968  NWB2EA8J            96479 2023-04-18 18:46:53  Motorola   \n",
              "22732  22969  VDTRJ2W6            96442 2023-04-18 18:47:47   Samsung   \n",
              "22733  22970  PETLF56C            96536 2023-04-18 18:49:08   Samsung   \n",
              "22734  22971  2CI4N2WS            96534 2023-04-18 18:49:39   Samsung   \n",
              "\n",
              "                             modelo plazo  precio  enganche  descuento  ...  \\\n",
              "0                Blade A3 2020 RO B   26S  1949.0     780.0        0.0  ...   \n",
              "1      LTE XT2097-12 E7I POWER Azul   13S  2999.0    1050.0        0.0  ...   \n",
              "2                BLADE A3 2020 Gris   13S  1959.0     490.0        0.0  ...   \n",
              "3                BLADE A3 2020 Gris   13S  1959.0     490.0        0.0  ...   \n",
              "4                             G10 B   39S  4299.0    1075.0        0.0  ...   \n",
              "...                             ...   ...     ...       ...        ...  ...   \n",
              "22730                      Moto E13   26S  3349.0     297.0        0.0  ...   \n",
              "22731                     Moto E22i   26S  4100.0    1209.0        0.0  ...   \n",
              "22732                           A13   26S  4849.0    1152.0        0.0  ...   \n",
              "22733                        A53 5G   39S  9799.0    2799.0        0.0  ...   \n",
              "22734                        A22 5G   26S  5399.0    1086.0        0.0  ...   \n",
              "\n",
              "       fecha_pago_proximo  status_cuenta  puntos     riesgo porc_enganche  \\\n",
              "0                     NaT            NaN     NaN        NaN           NaN   \n",
              "1                     NaT            NaN     NaN        NaN           NaN   \n",
              "2                     NaT            NaN     NaN  Cancelado          0.00   \n",
              "3                     NaT            NaN     NaN        NaN           NaN   \n",
              "4              2022-03-12           Mora     0.0          0          0.00   \n",
              "...                   ...            ...     ...        ...           ...   \n",
              "22730          2023-04-25            NaN     NaN         10         27.40   \n",
              "22731          2023-04-25            NaN     NaN          9         19.00   \n",
              "22732          2023-04-25            NaN     NaN         11         26.65   \n",
              "22733          2023-04-25            NaN     NaN         14        -17.35   \n",
              "22734          2023-04-25            NaN     NaN         12         21.80   \n",
              "\n",
              "      porc_tasa  score_buro  razones_buro semana_actual  codigo_postal  \n",
              "0          0.00         0.0             0             0              0  \n",
              "1          0.00         0.0             0             0              0  \n",
              "2          0.00         0.0             0             0            NaN  \n",
              "3          0.00         0.0             0             0              0  \n",
              "4          0.00         0.0           NaN           NaN             74  \n",
              "...         ...         ...           ...           ...            ...  \n",
              "22730     -1.13         0.0             0   K0,J0,D8,E2              0  \n",
              "22731      7.48         0.0             0   K0,J0,D8,E2              0  \n",
              "22732      0.75         0.0             0   K0,D7,F7,D8              0  \n",
              "22733     -0.14         0.0             0   J0,G1,E0,E2              0  \n",
              "22734     -2.88         0.0             0            C2              0  \n",
              "\n",
              "[22735 rows x 33 columns]"
            ],
            "text/html": [
              "\n",
              "  <div id=\"df-c7b816a9-80c0-48cf-9011-6f4a009338ec\" class=\"colab-df-container\">\n",
              "    <div>\n",
              "<style scoped>\n",
              "    .dataframe tbody tr th:only-of-type {\n",
              "        vertical-align: middle;\n",
              "    }\n",
              "\n",
              "    .dataframe tbody tr th {\n",
              "        vertical-align: top;\n",
              "    }\n",
              "\n",
              "    .dataframe thead th {\n",
              "        text-align: right;\n",
              "    }\n",
              "</style>\n",
              "<table border=\"1\" class=\"dataframe\">\n",
              "  <thead>\n",
              "    <tr style=\"text-align: right;\">\n",
              "      <th></th>\n",
              "      <th>folio</th>\n",
              "      <th>tag</th>\n",
              "      <th>folio_solicitud</th>\n",
              "      <th>fecha</th>\n",
              "      <th>marca</th>\n",
              "      <th>modelo</th>\n",
              "      <th>plazo</th>\n",
              "      <th>precio</th>\n",
              "      <th>enganche</th>\n",
              "      <th>descuento</th>\n",
              "      <th>...</th>\n",
              "      <th>fecha_pago_proximo</th>\n",
              "      <th>status_cuenta</th>\n",
              "      <th>puntos</th>\n",
              "      <th>riesgo</th>\n",
              "      <th>porc_enganche</th>\n",
              "      <th>porc_tasa</th>\n",
              "      <th>score_buro</th>\n",
              "      <th>razones_buro</th>\n",
              "      <th>semana_actual</th>\n",
              "      <th>codigo_postal</th>\n",
              "    </tr>\n",
              "  </thead>\n",
              "  <tbody>\n",
              "    <tr>\n",
              "      <th>0</th>\n",
              "      <td>3</td>\n",
              "      <td>HDNAWQ3A</td>\n",
              "      <td>30</td>\n",
              "      <td>2021-11-12 19:00:05</td>\n",
              "      <td>ZTE</td>\n",
              "      <td>Blade A3 2020 RO B</td>\n",
              "      <td>26S</td>\n",
              "      <td>1949.0</td>\n",
              "      <td>780.0</td>\n",
              "      <td>0.0</td>\n",
              "      <td>...</td>\n",
              "      <td>NaT</td>\n",
              "      <td>NaN</td>\n",
              "      <td>NaN</td>\n",
              "      <td>NaN</td>\n",
              "      <td>NaN</td>\n",
              "      <td>0.00</td>\n",
              "      <td>0.0</td>\n",
              "      <td>0</td>\n",
              "      <td>0</td>\n",
              "      <td>0</td>\n",
              "    </tr>\n",
              "    <tr>\n",
              "      <th>1</th>\n",
              "      <td>4</td>\n",
              "      <td>M418YNR4</td>\n",
              "      <td>33</td>\n",
              "      <td>2021-11-12 19:15:58</td>\n",
              "      <td>MOTOROLA</td>\n",
              "      <td>LTE XT2097-12 E7I POWER Azul</td>\n",
              "      <td>13S</td>\n",
              "      <td>2999.0</td>\n",
              "      <td>1050.0</td>\n",
              "      <td>0.0</td>\n",
              "      <td>...</td>\n",
              "      <td>NaT</td>\n",
              "      <td>NaN</td>\n",
              "      <td>NaN</td>\n",
              "      <td>NaN</td>\n",
              "      <td>NaN</td>\n",
              "      <td>0.00</td>\n",
              "      <td>0.0</td>\n",
              "      <td>0</td>\n",
              "      <td>0</td>\n",
              "      <td>0</td>\n",
              "    </tr>\n",
              "    <tr>\n",
              "      <th>2</th>\n",
              "      <td>5</td>\n",
              "      <td>SZ7V3NZT</td>\n",
              "      <td>37</td>\n",
              "      <td>2021-11-13 14:13:08</td>\n",
              "      <td>ZTE</td>\n",
              "      <td>BLADE A3 2020 Gris</td>\n",
              "      <td>13S</td>\n",
              "      <td>1959.0</td>\n",
              "      <td>490.0</td>\n",
              "      <td>0.0</td>\n",
              "      <td>...</td>\n",
              "      <td>NaT</td>\n",
              "      <td>NaN</td>\n",
              "      <td>NaN</td>\n",
              "      <td>Cancelado</td>\n",
              "      <td>0.00</td>\n",
              "      <td>0.00</td>\n",
              "      <td>0.0</td>\n",
              "      <td>0</td>\n",
              "      <td>0</td>\n",
              "      <td>NaN</td>\n",
              "    </tr>\n",
              "    <tr>\n",
              "      <th>3</th>\n",
              "      <td>6</td>\n",
              "      <td>9I08UIQZ</td>\n",
              "      <td>38</td>\n",
              "      <td>2021-11-13 15:45:39</td>\n",
              "      <td>ZTE</td>\n",
              "      <td>BLADE A3 2020 Gris</td>\n",
              "      <td>13S</td>\n",
              "      <td>1959.0</td>\n",
              "      <td>490.0</td>\n",
              "      <td>0.0</td>\n",
              "      <td>...</td>\n",
              "      <td>NaT</td>\n",
              "      <td>NaN</td>\n",
              "      <td>NaN</td>\n",
              "      <td>NaN</td>\n",
              "      <td>NaN</td>\n",
              "      <td>0.00</td>\n",
              "      <td>0.0</td>\n",
              "      <td>0</td>\n",
              "      <td>0</td>\n",
              "      <td>0</td>\n",
              "    </tr>\n",
              "    <tr>\n",
              "      <th>4</th>\n",
              "      <td>7</td>\n",
              "      <td>JMF4LKYU</td>\n",
              "      <td>44</td>\n",
              "      <td>2021-11-13 16:10:15</td>\n",
              "      <td>MOTOROLA</td>\n",
              "      <td>G10 B</td>\n",
              "      <td>39S</td>\n",
              "      <td>4299.0</td>\n",
              "      <td>1075.0</td>\n",
              "      <td>0.0</td>\n",
              "      <td>...</td>\n",
              "      <td>2022-03-12</td>\n",
              "      <td>Mora</td>\n",
              "      <td>0.0</td>\n",
              "      <td>0</td>\n",
              "      <td>0.00</td>\n",
              "      <td>0.00</td>\n",
              "      <td>0.0</td>\n",
              "      <td>NaN</td>\n",
              "      <td>NaN</td>\n",
              "      <td>74</td>\n",
              "    </tr>\n",
              "    <tr>\n",
              "      <th>...</th>\n",
              "      <td>...</td>\n",
              "      <td>...</td>\n",
              "      <td>...</td>\n",
              "      <td>...</td>\n",
              "      <td>...</td>\n",
              "      <td>...</td>\n",
              "      <td>...</td>\n",
              "      <td>...</td>\n",
              "      <td>...</td>\n",
              "      <td>...</td>\n",
              "      <td>...</td>\n",
              "      <td>...</td>\n",
              "      <td>...</td>\n",
              "      <td>...</td>\n",
              "      <td>...</td>\n",
              "      <td>...</td>\n",
              "      <td>...</td>\n",
              "      <td>...</td>\n",
              "      <td>...</td>\n",
              "      <td>...</td>\n",
              "      <td>...</td>\n",
              "    </tr>\n",
              "    <tr>\n",
              "      <th>22730</th>\n",
              "      <td>22967</td>\n",
              "      <td>92KQVRIX</td>\n",
              "      <td>96502</td>\n",
              "      <td>2023-04-18 18:45:00</td>\n",
              "      <td>Motorola</td>\n",
              "      <td>Moto E13</td>\n",
              "      <td>26S</td>\n",
              "      <td>3349.0</td>\n",
              "      <td>297.0</td>\n",
              "      <td>0.0</td>\n",
              "      <td>...</td>\n",
              "      <td>2023-04-25</td>\n",
              "      <td>NaN</td>\n",
              "      <td>NaN</td>\n",
              "      <td>10</td>\n",
              "      <td>27.40</td>\n",
              "      <td>-1.13</td>\n",
              "      <td>0.0</td>\n",
              "      <td>0</td>\n",
              "      <td>K0,J0,D8,E2</td>\n",
              "      <td>0</td>\n",
              "    </tr>\n",
              "    <tr>\n",
              "      <th>22731</th>\n",
              "      <td>22968</td>\n",
              "      <td>NWB2EA8J</td>\n",
              "      <td>96479</td>\n",
              "      <td>2023-04-18 18:46:53</td>\n",
              "      <td>Motorola</td>\n",
              "      <td>Moto E22i</td>\n",
              "      <td>26S</td>\n",
              "      <td>4100.0</td>\n",
              "      <td>1209.0</td>\n",
              "      <td>0.0</td>\n",
              "      <td>...</td>\n",
              "      <td>2023-04-25</td>\n",
              "      <td>NaN</td>\n",
              "      <td>NaN</td>\n",
              "      <td>9</td>\n",
              "      <td>19.00</td>\n",
              "      <td>7.48</td>\n",
              "      <td>0.0</td>\n",
              "      <td>0</td>\n",
              "      <td>K0,J0,D8,E2</td>\n",
              "      <td>0</td>\n",
              "    </tr>\n",
              "    <tr>\n",
              "      <th>22732</th>\n",
              "      <td>22969</td>\n",
              "      <td>VDTRJ2W6</td>\n",
              "      <td>96442</td>\n",
              "      <td>2023-04-18 18:47:47</td>\n",
              "      <td>Samsung</td>\n",
              "      <td>A13</td>\n",
              "      <td>26S</td>\n",
              "      <td>4849.0</td>\n",
              "      <td>1152.0</td>\n",
              "      <td>0.0</td>\n",
              "      <td>...</td>\n",
              "      <td>2023-04-25</td>\n",
              "      <td>NaN</td>\n",
              "      <td>NaN</td>\n",
              "      <td>11</td>\n",
              "      <td>26.65</td>\n",
              "      <td>0.75</td>\n",
              "      <td>0.0</td>\n",
              "      <td>0</td>\n",
              "      <td>K0,D7,F7,D8</td>\n",
              "      <td>0</td>\n",
              "    </tr>\n",
              "    <tr>\n",
              "      <th>22733</th>\n",
              "      <td>22970</td>\n",
              "      <td>PETLF56C</td>\n",
              "      <td>96536</td>\n",
              "      <td>2023-04-18 18:49:08</td>\n",
              "      <td>Samsung</td>\n",
              "      <td>A53 5G</td>\n",
              "      <td>39S</td>\n",
              "      <td>9799.0</td>\n",
              "      <td>2799.0</td>\n",
              "      <td>0.0</td>\n",
              "      <td>...</td>\n",
              "      <td>2023-04-25</td>\n",
              "      <td>NaN</td>\n",
              "      <td>NaN</td>\n",
              "      <td>14</td>\n",
              "      <td>-17.35</td>\n",
              "      <td>-0.14</td>\n",
              "      <td>0.0</td>\n",
              "      <td>0</td>\n",
              "      <td>J0,G1,E0,E2</td>\n",
              "      <td>0</td>\n",
              "    </tr>\n",
              "    <tr>\n",
              "      <th>22734</th>\n",
              "      <td>22971</td>\n",
              "      <td>2CI4N2WS</td>\n",
              "      <td>96534</td>\n",
              "      <td>2023-04-18 18:49:39</td>\n",
              "      <td>Samsung</td>\n",
              "      <td>A22 5G</td>\n",
              "      <td>26S</td>\n",
              "      <td>5399.0</td>\n",
              "      <td>1086.0</td>\n",
              "      <td>0.0</td>\n",
              "      <td>...</td>\n",
              "      <td>2023-04-25</td>\n",
              "      <td>NaN</td>\n",
              "      <td>NaN</td>\n",
              "      <td>12</td>\n",
              "      <td>21.80</td>\n",
              "      <td>-2.88</td>\n",
              "      <td>0.0</td>\n",
              "      <td>0</td>\n",
              "      <td>C2</td>\n",
              "      <td>0</td>\n",
              "    </tr>\n",
              "  </tbody>\n",
              "</table>\n",
              "<p>22735 rows × 33 columns</p>\n",
              "</div>\n",
              "    <div class=\"colab-df-buttons\">\n",
              "\n",
              "  <div class=\"colab-df-container\">\n",
              "    <button class=\"colab-df-convert\" onclick=\"convertToInteractive('df-c7b816a9-80c0-48cf-9011-6f4a009338ec')\"\n",
              "            title=\"Convert this dataframe to an interactive table.\"\n",
              "            style=\"display:none;\">\n",
              "\n",
              "  <svg xmlns=\"http://www.w3.org/2000/svg\" height=\"24px\" viewBox=\"0 -960 960 960\">\n",
              "    <path d=\"M120-120v-720h720v720H120Zm60-500h600v-160H180v160Zm220 220h160v-160H400v160Zm0 220h160v-160H400v160ZM180-400h160v-160H180v160Zm440 0h160v-160H620v160ZM180-180h160v-160H180v160Zm440 0h160v-160H620v160Z\"/>\n",
              "  </svg>\n",
              "    </button>\n",
              "\n",
              "  <style>\n",
              "    .colab-df-container {\n",
              "      display:flex;\n",
              "      gap: 12px;\n",
              "    }\n",
              "\n",
              "    .colab-df-convert {\n",
              "      background-color: #E8F0FE;\n",
              "      border: none;\n",
              "      border-radius: 50%;\n",
              "      cursor: pointer;\n",
              "      display: none;\n",
              "      fill: #1967D2;\n",
              "      height: 32px;\n",
              "      padding: 0 0 0 0;\n",
              "      width: 32px;\n",
              "    }\n",
              "\n",
              "    .colab-df-convert:hover {\n",
              "      background-color: #E2EBFA;\n",
              "      box-shadow: 0px 1px 2px rgba(60, 64, 67, 0.3), 0px 1px 3px 1px rgba(60, 64, 67, 0.15);\n",
              "      fill: #174EA6;\n",
              "    }\n",
              "\n",
              "    .colab-df-buttons div {\n",
              "      margin-bottom: 4px;\n",
              "    }\n",
              "\n",
              "    [theme=dark] .colab-df-convert {\n",
              "      background-color: #3B4455;\n",
              "      fill: #D2E3FC;\n",
              "    }\n",
              "\n",
              "    [theme=dark] .colab-df-convert:hover {\n",
              "      background-color: #434B5C;\n",
              "      box-shadow: 0px 1px 3px 1px rgba(0, 0, 0, 0.15);\n",
              "      filter: drop-shadow(0px 1px 2px rgba(0, 0, 0, 0.3));\n",
              "      fill: #FFFFFF;\n",
              "    }\n",
              "  </style>\n",
              "\n",
              "    <script>\n",
              "      const buttonEl =\n",
              "        document.querySelector('#df-c7b816a9-80c0-48cf-9011-6f4a009338ec button.colab-df-convert');\n",
              "      buttonEl.style.display =\n",
              "        google.colab.kernel.accessAllowed ? 'block' : 'none';\n",
              "\n",
              "      async function convertToInteractive(key) {\n",
              "        const element = document.querySelector('#df-c7b816a9-80c0-48cf-9011-6f4a009338ec');\n",
              "        const dataTable =\n",
              "          await google.colab.kernel.invokeFunction('convertToInteractive',\n",
              "                                                    [key], {});\n",
              "        if (!dataTable) return;\n",
              "\n",
              "        const docLinkHtml = 'Like what you see? Visit the ' +\n",
              "          '<a target=\"_blank\" href=https://colab.research.google.com/notebooks/data_table.ipynb>data table notebook</a>'\n",
              "          + ' to learn more about interactive tables.';\n",
              "        element.innerHTML = '';\n",
              "        dataTable['output_type'] = 'display_data';\n",
              "        await google.colab.output.renderOutput(dataTable, element);\n",
              "        const docLink = document.createElement('div');\n",
              "        docLink.innerHTML = docLinkHtml;\n",
              "        element.appendChild(docLink);\n",
              "      }\n",
              "    </script>\n",
              "  </div>\n",
              "\n",
              "\n",
              "<div id=\"df-0abd7db9-a5d8-434d-911c-aab9a6ca736e\">\n",
              "  <button class=\"colab-df-quickchart\" onclick=\"quickchart('df-0abd7db9-a5d8-434d-911c-aab9a6ca736e')\"\n",
              "            title=\"Suggest charts.\"\n",
              "            style=\"display:none;\">\n",
              "\n",
              "<svg xmlns=\"http://www.w3.org/2000/svg\" height=\"24px\"viewBox=\"0 0 24 24\"\n",
              "     width=\"24px\">\n",
              "    <g>\n",
              "        <path d=\"M19 3H5c-1.1 0-2 .9-2 2v14c0 1.1.9 2 2 2h14c1.1 0 2-.9 2-2V5c0-1.1-.9-2-2-2zM9 17H7v-7h2v7zm4 0h-2V7h2v10zm4 0h-2v-4h2v4z\"/>\n",
              "    </g>\n",
              "</svg>\n",
              "  </button>\n",
              "\n",
              "<style>\n",
              "  .colab-df-quickchart {\n",
              "      --bg-color: #E8F0FE;\n",
              "      --fill-color: #1967D2;\n",
              "      --hover-bg-color: #E2EBFA;\n",
              "      --hover-fill-color: #174EA6;\n",
              "      --disabled-fill-color: #AAA;\n",
              "      --disabled-bg-color: #DDD;\n",
              "  }\n",
              "\n",
              "  [theme=dark] .colab-df-quickchart {\n",
              "      --bg-color: #3B4455;\n",
              "      --fill-color: #D2E3FC;\n",
              "      --hover-bg-color: #434B5C;\n",
              "      --hover-fill-color: #FFFFFF;\n",
              "      --disabled-bg-color: #3B4455;\n",
              "      --disabled-fill-color: #666;\n",
              "  }\n",
              "\n",
              "  .colab-df-quickchart {\n",
              "    background-color: var(--bg-color);\n",
              "    border: none;\n",
              "    border-radius: 50%;\n",
              "    cursor: pointer;\n",
              "    display: none;\n",
              "    fill: var(--fill-color);\n",
              "    height: 32px;\n",
              "    padding: 0;\n",
              "    width: 32px;\n",
              "  }\n",
              "\n",
              "  .colab-df-quickchart:hover {\n",
              "    background-color: var(--hover-bg-color);\n",
              "    box-shadow: 0 1px 2px rgba(60, 64, 67, 0.3), 0 1px 3px 1px rgba(60, 64, 67, 0.15);\n",
              "    fill: var(--button-hover-fill-color);\n",
              "  }\n",
              "\n",
              "  .colab-df-quickchart-complete:disabled,\n",
              "  .colab-df-quickchart-complete:disabled:hover {\n",
              "    background-color: var(--disabled-bg-color);\n",
              "    fill: var(--disabled-fill-color);\n",
              "    box-shadow: none;\n",
              "  }\n",
              "\n",
              "  .colab-df-spinner {\n",
              "    border: 2px solid var(--fill-color);\n",
              "    border-color: transparent;\n",
              "    border-bottom-color: var(--fill-color);\n",
              "    animation:\n",
              "      spin 1s steps(1) infinite;\n",
              "  }\n",
              "\n",
              "  @keyframes spin {\n",
              "    0% {\n",
              "      border-color: transparent;\n",
              "      border-bottom-color: var(--fill-color);\n",
              "      border-left-color: var(--fill-color);\n",
              "    }\n",
              "    20% {\n",
              "      border-color: transparent;\n",
              "      border-left-color: var(--fill-color);\n",
              "      border-top-color: var(--fill-color);\n",
              "    }\n",
              "    30% {\n",
              "      border-color: transparent;\n",
              "      border-left-color: var(--fill-color);\n",
              "      border-top-color: var(--fill-color);\n",
              "      border-right-color: var(--fill-color);\n",
              "    }\n",
              "    40% {\n",
              "      border-color: transparent;\n",
              "      border-right-color: var(--fill-color);\n",
              "      border-top-color: var(--fill-color);\n",
              "    }\n",
              "    60% {\n",
              "      border-color: transparent;\n",
              "      border-right-color: var(--fill-color);\n",
              "    }\n",
              "    80% {\n",
              "      border-color: transparent;\n",
              "      border-right-color: var(--fill-color);\n",
              "      border-bottom-color: var(--fill-color);\n",
              "    }\n",
              "    90% {\n",
              "      border-color: transparent;\n",
              "      border-bottom-color: var(--fill-color);\n",
              "    }\n",
              "  }\n",
              "</style>\n",
              "\n",
              "  <script>\n",
              "    async function quickchart(key) {\n",
              "      const quickchartButtonEl =\n",
              "        document.querySelector('#' + key + ' button');\n",
              "      quickchartButtonEl.disabled = true;  // To prevent multiple clicks.\n",
              "      quickchartButtonEl.classList.add('colab-df-spinner');\n",
              "      try {\n",
              "        const charts = await google.colab.kernel.invokeFunction(\n",
              "            'suggestCharts', [key], {});\n",
              "      } catch (error) {\n",
              "        console.error('Error during call to suggestCharts:', error);\n",
              "      }\n",
              "      quickchartButtonEl.classList.remove('colab-df-spinner');\n",
              "      quickchartButtonEl.classList.add('colab-df-quickchart-complete');\n",
              "    }\n",
              "    (() => {\n",
              "      let quickchartButtonEl =\n",
              "        document.querySelector('#df-0abd7db9-a5d8-434d-911c-aab9a6ca736e button');\n",
              "      quickchartButtonEl.style.display =\n",
              "        google.colab.kernel.accessAllowed ? 'block' : 'none';\n",
              "    })();\n",
              "  </script>\n",
              "</div>\n",
              "    </div>\n",
              "  </div>\n"
            ]
          },
          "metadata": {},
          "execution_count": 4
        }
      ]
    },
    {
      "cell_type": "code",
      "source": [
        "credi.isnull().sum()"
      ],
      "metadata": {
        "colab": {
          "base_uri": "https://localhost:8080/"
        },
        "id": "y1oT70NPSiBY",
        "outputId": "60ac2644-15a0-4c1a-991a-1f419b2b163a"
      },
      "execution_count": 5,
      "outputs": [
        {
          "output_type": "execute_result",
          "data": {
            "text/plain": [
              "folio                    0\n",
              "tag                      0\n",
              "folio_solicitud          0\n",
              "fecha                    0\n",
              "marca                    0\n",
              "modelo                   0\n",
              "plazo                    0\n",
              "precio                   0\n",
              "enganche                 0\n",
              "descuento                0\n",
              "semana                   0\n",
              "monto_financiado         0\n",
              "costo_total              0\n",
              "monto_accesorios         0\n",
              "agente_venta             0\n",
              "dis_venta                0\n",
              "status                   0\n",
              "fraude                   0\n",
              "empresa                 13\n",
              "inversion                0\n",
              "pagos_realizados         0\n",
              "reautorizacion           0\n",
              "fecha_ultimo_pago     3356\n",
              "fecha_pago_proximo    3356\n",
              "status_cuenta         4197\n",
              "puntos                3595\n",
              "riesgo                2473\n",
              "porc_enganche         2473\n",
              "porc_tasa                0\n",
              "score_buro               0\n",
              "razones_buro          4505\n",
              "semana_actual         4505\n",
              "codigo_postal          685\n",
              "dtype: int64"
            ]
          },
          "metadata": {},
          "execution_count": 5
        }
      ]
    },
    {
      "cell_type": "code",
      "source": [
        "credi.info()"
      ],
      "metadata": {
        "colab": {
          "base_uri": "https://localhost:8080/"
        },
        "id": "bsddUJ9WHAWj",
        "outputId": "c88b7e47-16d7-4624-cdd3-c50984dff6a5"
      },
      "execution_count": 6,
      "outputs": [
        {
          "output_type": "stream",
          "name": "stdout",
          "text": [
            "<class 'pandas.core.frame.DataFrame'>\n",
            "RangeIndex: 22735 entries, 0 to 22734\n",
            "Data columns (total 33 columns):\n",
            " #   Column              Non-Null Count  Dtype         \n",
            "---  ------              --------------  -----         \n",
            " 0   folio               22735 non-null  int64         \n",
            " 1   tag                 22735 non-null  object        \n",
            " 2   folio_solicitud     22735 non-null  int64         \n",
            " 3   fecha               22735 non-null  datetime64[ns]\n",
            " 4   marca               22735 non-null  object        \n",
            " 5   modelo              22735 non-null  object        \n",
            " 6   plazo               22735 non-null  object        \n",
            " 7   precio              22735 non-null  float64       \n",
            " 8   enganche            22735 non-null  float64       \n",
            " 9   descuento           22735 non-null  float64       \n",
            " 10  semana              22735 non-null  int64         \n",
            " 11  monto_financiado    22735 non-null  float64       \n",
            " 12  costo_total         22735 non-null  int64         \n",
            " 13  monto_accesorios    22735 non-null  float64       \n",
            " 14  agente_venta        22735 non-null  object        \n",
            " 15  dis_venta           22735 non-null  object        \n",
            " 16  status              22735 non-null  int64         \n",
            " 17  fraude              22735 non-null  int64         \n",
            " 18  empresa             22722 non-null  object        \n",
            " 19  inversion           22735 non-null  int64         \n",
            " 20  pagos_realizados    22735 non-null  int64         \n",
            " 21  reautorizacion      22735 non-null  int64         \n",
            " 22  fecha_ultimo_pago   19379 non-null  datetime64[ns]\n",
            " 23  fecha_pago_proximo  19379 non-null  datetime64[ns]\n",
            " 24  status_cuenta       18538 non-null  object        \n",
            " 25  puntos              19140 non-null  float64       \n",
            " 26  riesgo              20262 non-null  object        \n",
            " 27  porc_enganche       20262 non-null  float64       \n",
            " 28  porc_tasa           22735 non-null  float64       \n",
            " 29  score_buro          22735 non-null  float64       \n",
            " 30  razones_buro        18230 non-null  object        \n",
            " 31  semana_actual       18230 non-null  object        \n",
            " 32  codigo_postal       22050 non-null  object        \n",
            "dtypes: datetime64[ns](3), float64(9), int64(9), object(12)\n",
            "memory usage: 5.7+ MB\n"
          ]
        }
      ]
    },
    {
      "cell_type": "markdown",
      "source": [
        "No puede haber medio fraudes entonces, entonces la mayoría no tienen ni un fraude, por lo que se llena con la mediana"
      ],
      "metadata": {
        "id": "RzybeiiQZTVl"
      }
    },
    {
      "cell_type": "code",
      "source": [
        "credi['fraude'].median()"
      ],
      "metadata": {
        "colab": {
          "base_uri": "https://localhost:8080/"
        },
        "id": "x2AEbjdOSpYU",
        "outputId": "5bca401d-1379-409a-f94d-028e947e79a3"
      },
      "execution_count": 7,
      "outputs": [
        {
          "output_type": "execute_result",
          "data": {
            "text/plain": [
              "0.0"
            ]
          },
          "metadata": {},
          "execution_count": 7
        }
      ]
    },
    {
      "cell_type": "markdown",
      "source": [
        "Como son fechas en desorden no predecibles, por lo que se dejan en fechas desconocidas"
      ],
      "metadata": {
        "id": "BlJf1VOAZlz7"
      }
    },
    {
      "cell_type": "code",
      "source": [
        "credi['fecha_ultimo_pago']=credi['fecha_ultimo_pago'].fillna('Desconocido')"
      ],
      "metadata": {
        "id": "Z7HOAQySUA8G"
      },
      "execution_count": 8,
      "outputs": []
    },
    {
      "cell_type": "code",
      "source": [
        "credi['fecha_pago_proximo']=credi['fecha_pago_proximo'].fillna('Desconocido')"
      ],
      "metadata": {
        "id": "IM-4w1pCUq7u"
      },
      "execution_count": 9,
      "outputs": []
    },
    {
      "cell_type": "markdown",
      "source": [
        "Los status de cuenta son Al corriente, Atraso, Mora, Fraude y los espacios en blanco significa que no se ha determinado el estatus, por lo que se deja como \"Blanco\""
      ],
      "metadata": {
        "id": "UXjTzO5CZ5Vo"
      }
    },
    {
      "cell_type": "code",
      "source": [
        "credi['status_cuenta']=credi['status_cuenta'].fillna('Blanco')"
      ],
      "metadata": {
        "id": "TeGHXzqvZvgl"
      },
      "execution_count": 10,
      "outputs": []
    },
    {
      "cell_type": "markdown",
      "source": [
        "Los puntos depende de los clientes y sus situaciones, así que lo hice por el promedio redondeado."
      ],
      "metadata": {
        "id": "jUPAjjSYbmUF"
      }
    },
    {
      "cell_type": "code",
      "source": [
        "credi[\"puntos\"]=credi[\"puntos\"].fillna(round(credi[\"puntos\"].median(),0))"
      ],
      "metadata": {
        "id": "M8Au6FNca9NF"
      },
      "execution_count": 11,
      "outputs": []
    },
    {
      "cell_type": "code",
      "source": [
        "credi['riesgo'] = credi['riesgo'].replace('Cancelado', 104)\n",
        "credi['riesgo'] = credi['riesgo'].replace('Fraude', 105)\n",
        "credi['riesgo'] = credi['riesgo'].replace('Atraso', 106)\n",
        "credi['riesgo'] = pd.to_numeric(credi['riesgo'])"
      ],
      "metadata": {
        "id": "wB3f5qFjeSYw"
      },
      "execution_count": 13,
      "outputs": []
    },
    {
      "cell_type": "code",
      "source": [
        "credi[\"riesgo\"]=credi[\"riesgo\"].fillna(round(credi[\"riesgo\"].median(),0))"
      ],
      "metadata": {
        "id": "LaFJDLAJQnWf"
      },
      "execution_count": 15,
      "outputs": []
    },
    {
      "cell_type": "code",
      "source": [
        "credi.isnull().sum()"
      ],
      "metadata": {
        "colab": {
          "base_uri": "https://localhost:8080/"
        },
        "id": "YIzgjwxhTA-r",
        "outputId": "7a571973-aba0-43e3-aa97-a112d3ae406e"
      },
      "execution_count": 16,
      "outputs": [
        {
          "output_type": "execute_result",
          "data": {
            "text/plain": [
              "folio                    0\n",
              "tag                      0\n",
              "folio_solicitud          0\n",
              "fecha                    0\n",
              "marca                    0\n",
              "modelo                   0\n",
              "plazo                    0\n",
              "precio                   0\n",
              "enganche                 0\n",
              "descuento                0\n",
              "semana                   0\n",
              "monto_financiado         0\n",
              "costo_total              0\n",
              "monto_accesorios         0\n",
              "agente_venta             0\n",
              "dis_venta                0\n",
              "status                   0\n",
              "fraude                   0\n",
              "empresa                 13\n",
              "inversion                0\n",
              "pagos_realizados         0\n",
              "reautorizacion           0\n",
              "fecha_ultimo_pago        0\n",
              "fecha_pago_proximo       0\n",
              "status_cuenta            0\n",
              "puntos                   0\n",
              "riesgo                   0\n",
              "porc_enganche         2473\n",
              "porc_tasa                0\n",
              "score_buro               0\n",
              "razones_buro          4505\n",
              "semana_actual         4505\n",
              "codigo_postal          685\n",
              "dtype: int64"
            ]
          },
          "metadata": {},
          "execution_count": 16
        }
      ]
    },
    {
      "cell_type": "code",
      "source": [
        "credi[\"porc_enganche\"]=credi[\"porc_enganche\"].fillna(round(credi[\"porc_enganche\"].median(),0))"
      ],
      "metadata": {
        "id": "0egqE65vV6wX"
      },
      "execution_count": 17,
      "outputs": []
    },
    {
      "cell_type": "code",
      "source": [
        "credi[\"razones_buro\"]=credi[\"razones_buro\"].fillna(\"Desconocido\")"
      ],
      "metadata": {
        "id": "rbdwDT7vWhhk"
      },
      "execution_count": 18,
      "outputs": []
    },
    {
      "cell_type": "code",
      "source": [
        "credi[\"razones_buro\"]=credi[\"razones_buro\"].fillna(\"Desconocido\")"
      ],
      "metadata": {
        "id": "mzdgpZ_TXCyn"
      },
      "execution_count": 19,
      "outputs": []
    },
    {
      "cell_type": "code",
      "source": [
        "credi[\"semana_actual\"]=credi[\"semana_actual\"].fillna(\"Desconocido\")"
      ],
      "metadata": {
        "id": "bkfAqQpj0rSv"
      },
      "execution_count": 20,
      "outputs": []
    },
    {
      "cell_type": "code",
      "source": [
        "credi[\"codigo_postal\"]=credi[\"codigo_postal\"].fillna(\"Desconocido\")"
      ],
      "metadata": {
        "id": "izaYv3tQ02FN"
      },
      "execution_count": 21,
      "outputs": []
    },
    {
      "cell_type": "code",
      "source": [
        "credi.isnull().sum()"
      ],
      "metadata": {
        "colab": {
          "base_uri": "https://localhost:8080/"
        },
        "id": "NZd46Lh8IxCJ",
        "outputId": "1f4104d2-01c4-4e26-d47c-c38aaedd106e"
      },
      "execution_count": 22,
      "outputs": [
        {
          "output_type": "execute_result",
          "data": {
            "text/plain": [
              "folio                  0\n",
              "tag                    0\n",
              "folio_solicitud        0\n",
              "fecha                  0\n",
              "marca                  0\n",
              "modelo                 0\n",
              "plazo                  0\n",
              "precio                 0\n",
              "enganche               0\n",
              "descuento              0\n",
              "semana                 0\n",
              "monto_financiado       0\n",
              "costo_total            0\n",
              "monto_accesorios       0\n",
              "agente_venta           0\n",
              "dis_venta              0\n",
              "status                 0\n",
              "fraude                 0\n",
              "empresa               13\n",
              "inversion              0\n",
              "pagos_realizados       0\n",
              "reautorizacion         0\n",
              "fecha_ultimo_pago      0\n",
              "fecha_pago_proximo     0\n",
              "status_cuenta          0\n",
              "puntos                 0\n",
              "riesgo                 0\n",
              "porc_enganche          0\n",
              "porc_tasa              0\n",
              "score_buro             0\n",
              "razones_buro           0\n",
              "semana_actual          0\n",
              "codigo_postal          0\n",
              "dtype: int64"
            ]
          },
          "metadata": {},
          "execution_count": 22
        }
      ]
    },
    {
      "cell_type": "code",
      "source": [
        "from collections import Counter"
      ],
      "metadata": {
        "id": "BT_QH2rsJxo_"
      },
      "execution_count": 24,
      "outputs": []
    },
    {
      "cell_type": "code",
      "source": [
        "Counter(credi['empresa'])"
      ],
      "metadata": {
        "colab": {
          "base_uri": "https://localhost:8080/"
        },
        "id": "D1KMd25hJy4v",
        "outputId": "3b4f36cb-32d9-43c9-bd1c-7b725ecff034"
      },
      "execution_count": 31,
      "outputs": [
        {
          "output_type": "execute_result",
          "data": {
            "text/plain": [
              "Counter({'microtec': 9323,\n",
              "         'Sistemas': 1,\n",
              "         'compercel': 174,\n",
              "         'semfactory': 3,\n",
              "         'apartacel': 324,\n",
              "         'aespinosa': 221,\n",
              "         'procredito': 697,\n",
              "         'comunicatec': 1020,\n",
              "         'laragrajales': 24,\n",
              "         'martz': 14,\n",
              "         'linetelc': 172,\n",
              "         'emnagar': 81,\n",
              "         'servicel': 7348,\n",
              "         'yaavs': 258,\n",
              "         'hashtag': 1,\n",
              "         'texpress': 396,\n",
              "         'quality': 71,\n",
              "         'drmedia': 73,\n",
              "         'crglobal': 153,\n",
              "         'phuny': 80,\n",
              "         'alessan': 39,\n",
              "         'servicelr7': 2,\n",
              "         'leket': 186,\n",
              "         'senshi': 5,\n",
              "         'tucelya': 65,\n",
              "         'centrocel': 395,\n",
              "         'fixmobile': 43,\n",
              "         'ccelular': 32,\n",
              "         'grupoph': 136,\n",
              "         'phonepay': 456,\n",
              "         'telesystems': 156,\n",
              "         'todocell': 52,\n",
              "         'maifon': 60,\n",
              "         'mistraltechnology': 48,\n",
              "         'arcelular': 171,\n",
              "         'signumaxis': 35,\n",
              "         'satelitel': 36,\n",
              "         'teknosmart': 12,\n",
              "         'icellpro': 1,\n",
              "         'phoneone': 24,\n",
              "         'redworld': 126,\n",
              "         'ahorrocelsonora': 35,\n",
              "         'financel': 46,\n",
              "         'egocomunicaciones': 15,\n",
              "         'compuflash': 9,\n",
              "         'pixelulares': 112,\n",
              "         'officedar': 3,\n",
              "         'marcell': 1})"
            ]
          },
          "metadata": {},
          "execution_count": 31
        }
      ]
    },
    {
      "cell_type": "code",
      "source": [
        "credi[\"empresa\"]=credi[\"empresa\"].fillna(\"microtec\")"
      ],
      "metadata": {
        "id": "NqZrehHJKZr_"
      },
      "execution_count": 32,
      "outputs": []
    },
    {
      "cell_type": "code",
      "source": [
        "credi.isnull().sum()"
      ],
      "metadata": {
        "colab": {
          "base_uri": "https://localhost:8080/"
        },
        "id": "UDDn6U8sUx-g",
        "outputId": "5a38ce88-3eaa-4514-e16c-78053ccb59d6"
      },
      "execution_count": 33,
      "outputs": [
        {
          "output_type": "execute_result",
          "data": {
            "text/plain": [
              "folio                 0\n",
              "tag                   0\n",
              "folio_solicitud       0\n",
              "fecha                 0\n",
              "marca                 0\n",
              "modelo                0\n",
              "plazo                 0\n",
              "precio                0\n",
              "enganche              0\n",
              "descuento             0\n",
              "semana                0\n",
              "monto_financiado      0\n",
              "costo_total           0\n",
              "monto_accesorios      0\n",
              "agente_venta          0\n",
              "dis_venta             0\n",
              "status                0\n",
              "fraude                0\n",
              "empresa               0\n",
              "inversion             0\n",
              "pagos_realizados      0\n",
              "reautorizacion        0\n",
              "fecha_ultimo_pago     0\n",
              "fecha_pago_proximo    0\n",
              "status_cuenta         0\n",
              "puntos                0\n",
              "riesgo                0\n",
              "porc_enganche         0\n",
              "porc_tasa             0\n",
              "score_buro            0\n",
              "razones_buro          0\n",
              "semana_actual         0\n",
              "codigo_postal         0\n",
              "dtype: int64"
            ]
          },
          "metadata": {},
          "execution_count": 33
        }
      ]
    },
    {
      "cell_type": "code",
      "source": [
        "credi.info()"
      ],
      "metadata": {
        "colab": {
          "base_uri": "https://localhost:8080/"
        },
        "id": "DEzP26EcVS8y",
        "outputId": "406f53c5-f8b7-4e6c-b56c-48bc79386444"
      },
      "execution_count": 34,
      "outputs": [
        {
          "output_type": "stream",
          "name": "stdout",
          "text": [
            "<class 'pandas.core.frame.DataFrame'>\n",
            "RangeIndex: 22735 entries, 0 to 22734\n",
            "Data columns (total 33 columns):\n",
            " #   Column              Non-Null Count  Dtype         \n",
            "---  ------              --------------  -----         \n",
            " 0   folio               22735 non-null  int64         \n",
            " 1   tag                 22735 non-null  object        \n",
            " 2   folio_solicitud     22735 non-null  int64         \n",
            " 3   fecha               22735 non-null  datetime64[ns]\n",
            " 4   marca               22735 non-null  object        \n",
            " 5   modelo              22735 non-null  object        \n",
            " 6   plazo               22735 non-null  object        \n",
            " 7   precio              22735 non-null  float64       \n",
            " 8   enganche            22735 non-null  float64       \n",
            " 9   descuento           22735 non-null  float64       \n",
            " 10  semana              22735 non-null  int64         \n",
            " 11  monto_financiado    22735 non-null  float64       \n",
            " 12  costo_total         22735 non-null  int64         \n",
            " 13  monto_accesorios    22735 non-null  float64       \n",
            " 14  agente_venta        22735 non-null  object        \n",
            " 15  dis_venta           22735 non-null  object        \n",
            " 16  status              22735 non-null  int64         \n",
            " 17  fraude              22735 non-null  int64         \n",
            " 18  empresa             22735 non-null  object        \n",
            " 19  inversion           22735 non-null  int64         \n",
            " 20  pagos_realizados    22735 non-null  int64         \n",
            " 21  reautorizacion      22735 non-null  int64         \n",
            " 22  fecha_ultimo_pago   22735 non-null  object        \n",
            " 23  fecha_pago_proximo  22735 non-null  object        \n",
            " 24  status_cuenta       22735 non-null  object        \n",
            " 25  puntos              22735 non-null  float64       \n",
            " 26  riesgo              22735 non-null  float64       \n",
            " 27  porc_enganche       22735 non-null  float64       \n",
            " 28  porc_tasa           22735 non-null  float64       \n",
            " 29  score_buro          22735 non-null  float64       \n",
            " 30  razones_buro        22735 non-null  object        \n",
            " 31  semana_actual       22735 non-null  object        \n",
            " 32  codigo_postal       22735 non-null  object        \n",
            "dtypes: datetime64[ns](1), float64(10), int64(9), object(13)\n",
            "memory usage: 5.7+ MB\n"
          ]
        }
      ]
    },
    {
      "cell_type": "code",
      "source": [
        "creedicuanti=credi[['precio','enganche','descuento','semana','monto_financiado','costo_total','monto_accesorios','status','fraude','inversion','pagos_realizados','reautorizacion','puntos','porc_enganche','porc_tasa','score_buro']]"
      ],
      "metadata": {
        "id": "2MGzWarHVU19"
      },
      "execution_count": 35,
      "outputs": []
    },
    {
      "cell_type": "code",
      "source": [
        "plt.boxplot(creedicuanti)"
      ],
      "metadata": {
        "colab": {
          "base_uri": "https://localhost:8080/",
          "height": 1000
        },
        "id": "-PG4hZNYXcnL",
        "outputId": "9746c269-e3f0-484b-f7ca-7d41e1c6eccb"
      },
      "execution_count": 36,
      "outputs": [
        {
          "output_type": "execute_result",
          "data": {
            "text/plain": [
              "{'whiskers': [<matplotlib.lines.Line2D at 0x7af9423f3d60>,\n",
              "  <matplotlib.lines.Line2D at 0x7af942238040>,\n",
              "  <matplotlib.lines.Line2D at 0x7af942239000>,\n",
              "  <matplotlib.lines.Line2D at 0x7af9422392a0>,\n",
              "  <matplotlib.lines.Line2D at 0x7af94223a290>,\n",
              "  <matplotlib.lines.Line2D at 0x7af94223a530>,\n",
              "  <matplotlib.lines.Line2D at 0x7af94223b4f0>,\n",
              "  <matplotlib.lines.Line2D at 0x7af94223b3d0>,\n",
              "  <matplotlib.lines.Line2D at 0x7af9422704c0>,\n",
              "  <matplotlib.lines.Line2D at 0x7af942270760>,\n",
              "  <matplotlib.lines.Line2D at 0x7af942271720>,\n",
              "  <matplotlib.lines.Line2D at 0x7af9422719c0>,\n",
              "  <matplotlib.lines.Line2D at 0x7af942272980>,\n",
              "  <matplotlib.lines.Line2D at 0x7af942272c20>,\n",
              "  <matplotlib.lines.Line2D at 0x7af942273be0>,\n",
              "  <matplotlib.lines.Line2D at 0x7af942273e80>,\n",
              "  <matplotlib.lines.Line2D at 0x7af9422a8eb0>,\n",
              "  <matplotlib.lines.Line2D at 0x7af9422a9150>,\n",
              "  <matplotlib.lines.Line2D at 0x7af9422aa110>,\n",
              "  <matplotlib.lines.Line2D at 0x7af9422aa3b0>,\n",
              "  <matplotlib.lines.Line2D at 0x7af9422ab370>,\n",
              "  <matplotlib.lines.Line2D at 0x7af9422ab610>,\n",
              "  <matplotlib.lines.Line2D at 0x7af9422dc610>,\n",
              "  <matplotlib.lines.Line2D at 0x7af9422dc8b0>,\n",
              "  <matplotlib.lines.Line2D at 0x7af9422dd870>,\n",
              "  <matplotlib.lines.Line2D at 0x7af9422ddb10>,\n",
              "  <matplotlib.lines.Line2D at 0x7af9422dead0>,\n",
              "  <matplotlib.lines.Line2D at 0x7af9422ded70>,\n",
              "  <matplotlib.lines.Line2D at 0x7af9422dfd30>,\n",
              "  <matplotlib.lines.Line2D at 0x7af9422dffd0>,\n",
              "  <matplotlib.lines.Line2D at 0x7af93ff1cfd0>,\n",
              "  <matplotlib.lines.Line2D at 0x7af93ff1d270>],\n",
              " 'caps': [<matplotlib.lines.Line2D at 0x7af9422382e0>,\n",
              "  <matplotlib.lines.Line2D at 0x7af942238580>,\n",
              "  <matplotlib.lines.Line2D at 0x7af942239540>,\n",
              "  <matplotlib.lines.Line2D at 0x7af942239810>,\n",
              "  <matplotlib.lines.Line2D at 0x7af94223a7d0>,\n",
              "  <matplotlib.lines.Line2D at 0x7af94223aa70>,\n",
              "  <matplotlib.lines.Line2D at 0x7af94223b760>,\n",
              "  <matplotlib.lines.Line2D at 0x7af94223ba00>,\n",
              "  <matplotlib.lines.Line2D at 0x7af942270a00>,\n",
              "  <matplotlib.lines.Line2D at 0x7af942270ca0>,\n",
              "  <matplotlib.lines.Line2D at 0x7af942271c60>,\n",
              "  <matplotlib.lines.Line2D at 0x7af942271f00>,\n",
              "  <matplotlib.lines.Line2D at 0x7af942272ec0>,\n",
              "  <matplotlib.lines.Line2D at 0x7af942273160>,\n",
              "  <matplotlib.lines.Line2D at 0x7af9422a8160>,\n",
              "  <matplotlib.lines.Line2D at 0x7af9422a8430>,\n",
              "  <matplotlib.lines.Line2D at 0x7af9422a93f0>,\n",
              "  <matplotlib.lines.Line2D at 0x7af9422a9690>,\n",
              "  <matplotlib.lines.Line2D at 0x7af9422aa650>,\n",
              "  <matplotlib.lines.Line2D at 0x7af9422aa8f0>,\n",
              "  <matplotlib.lines.Line2D at 0x7af9422ab8b0>,\n",
              "  <matplotlib.lines.Line2D at 0x7af9422abb50>,\n",
              "  <matplotlib.lines.Line2D at 0x7af9422dcb50>,\n",
              "  <matplotlib.lines.Line2D at 0x7af9422dcdf0>,\n",
              "  <matplotlib.lines.Line2D at 0x7af9422dddb0>,\n",
              "  <matplotlib.lines.Line2D at 0x7af9422de050>,\n",
              "  <matplotlib.lines.Line2D at 0x7af9422df010>,\n",
              "  <matplotlib.lines.Line2D at 0x7af9422df2b0>,\n",
              "  <matplotlib.lines.Line2D at 0x7af93ff1c2b0>,\n",
              "  <matplotlib.lines.Line2D at 0x7af93ff1c550>,\n",
              "  <matplotlib.lines.Line2D at 0x7af93ff1d510>,\n",
              "  <matplotlib.lines.Line2D at 0x7af93ff1d7b0>],\n",
              " 'boxes': [<matplotlib.lines.Line2D at 0x7af9423f3ac0>,\n",
              "  <matplotlib.lines.Line2D at 0x7af942238d60>,\n",
              "  <matplotlib.lines.Line2D at 0x7af942239ff0>,\n",
              "  <matplotlib.lines.Line2D at 0x7af94223b250>,\n",
              "  <matplotlib.lines.Line2D at 0x7af942270220>,\n",
              "  <matplotlib.lines.Line2D at 0x7af942271480>,\n",
              "  <matplotlib.lines.Line2D at 0x7af9422726e0>,\n",
              "  <matplotlib.lines.Line2D at 0x7af942273940>,\n",
              "  <matplotlib.lines.Line2D at 0x7af9422a8c10>,\n",
              "  <matplotlib.lines.Line2D at 0x7af9422a9e70>,\n",
              "  <matplotlib.lines.Line2D at 0x7af9422ab0d0>,\n",
              "  <matplotlib.lines.Line2D at 0x7af9422dc370>,\n",
              "  <matplotlib.lines.Line2D at 0x7af9422dd5d0>,\n",
              "  <matplotlib.lines.Line2D at 0x7af9422de830>,\n",
              "  <matplotlib.lines.Line2D at 0x7af9422dfa90>,\n",
              "  <matplotlib.lines.Line2D at 0x7af93ff1cd30>],\n",
              " 'medians': [<matplotlib.lines.Line2D at 0x7af942238820>,\n",
              "  <matplotlib.lines.Line2D at 0x7af942239ab0>,\n",
              "  <matplotlib.lines.Line2D at 0x7af94223ad10>,\n",
              "  <matplotlib.lines.Line2D at 0x7af94223bca0>,\n",
              "  <matplotlib.lines.Line2D at 0x7af942270f40>,\n",
              "  <matplotlib.lines.Line2D at 0x7af9422721a0>,\n",
              "  <matplotlib.lines.Line2D at 0x7af942273400>,\n",
              "  <matplotlib.lines.Line2D at 0x7af9422a86d0>,\n",
              "  <matplotlib.lines.Line2D at 0x7af9422a9930>,\n",
              "  <matplotlib.lines.Line2D at 0x7af9422aab90>,\n",
              "  <matplotlib.lines.Line2D at 0x7af9422abdf0>,\n",
              "  <matplotlib.lines.Line2D at 0x7af9422dd090>,\n",
              "  <matplotlib.lines.Line2D at 0x7af9422de2f0>,\n",
              "  <matplotlib.lines.Line2D at 0x7af9422df550>,\n",
              "  <matplotlib.lines.Line2D at 0x7af93ff1c7f0>,\n",
              "  <matplotlib.lines.Line2D at 0x7af93ff1da50>],\n",
              " 'fliers': [<matplotlib.lines.Line2D at 0x7af942238ac0>,\n",
              "  <matplotlib.lines.Line2D at 0x7af942239d50>,\n",
              "  <matplotlib.lines.Line2D at 0x7af94223afb0>,\n",
              "  <matplotlib.lines.Line2D at 0x7af94223bf40>,\n",
              "  <matplotlib.lines.Line2D at 0x7af9422711e0>,\n",
              "  <matplotlib.lines.Line2D at 0x7af942272440>,\n",
              "  <matplotlib.lines.Line2D at 0x7af9422736a0>,\n",
              "  <matplotlib.lines.Line2D at 0x7af9422a8970>,\n",
              "  <matplotlib.lines.Line2D at 0x7af9422a9bd0>,\n",
              "  <matplotlib.lines.Line2D at 0x7af9422aae30>,\n",
              "  <matplotlib.lines.Line2D at 0x7af9422dc0d0>,\n",
              "  <matplotlib.lines.Line2D at 0x7af9422dd330>,\n",
              "  <matplotlib.lines.Line2D at 0x7af9422de590>,\n",
              "  <matplotlib.lines.Line2D at 0x7af9422df7f0>,\n",
              "  <matplotlib.lines.Line2D at 0x7af93ff1ca90>,\n",
              "  <matplotlib.lines.Line2D at 0x7af93ff1dcf0>],\n",
              " 'means': []}"
            ]
          },
          "metadata": {},
          "execution_count": 36
        },
        {
          "output_type": "display_data",
          "data": {
            "text/plain": [
              "<Figure size 640x480 with 1 Axes>"
            ],
            "image/png": "[encoded data removed]"
          },
          "metadata": {}
        }
      ]
    },
    {
      "cell_type": "code",
      "source": [
        "q1 = creedicuanti['precio'].quantile(0.25)\n",
        "q2 = creedicuanti['precio'].quantile(0.75)\n",
        "iqr1 = q2 - q1\n",
        "\n",
        "lower_bound1 = q1 - 1.5 * iqr1\n",
        "upper_bound1 = q2 + 1.5 * iqr1\n"
      ],
      "metadata": {
        "id": "fsjgg5MkXsD7"
      },
      "execution_count": 37,
      "outputs": []
    },
    {
      "cell_type": "code",
      "source": [
        "creedicuanti['precio'] = np.where(creedicuanti['precio'] > upper_bound1, upper_bound1, creedicuanti['precio'])\n",
        "\n",
        "creedicuanti['precio'] = np.where(creedicuanti['precio'] < lower_bound1, lower_bound1, creedicuanti['precio'])"
      ],
      "metadata": {
        "colab": {
          "base_uri": "https://localhost:8080/"
        },
        "id": "nC63emw6X5-f",
        "outputId": "bb8f1a9b-14f1-4377-ffcc-5de8ae70ca1d"
      },
      "execution_count": 38,
      "outputs": [
        {
          "output_type": "stream",
          "name": "stderr",
          "text": [
            "<ipython-input-38-3be10e9433a2>:1: SettingWithCopyWarning: \n",
            "A value is trying to be set on a copy of a slice from a DataFrame.\n",
            "Try using .loc[row_indexer,col_indexer] = value instead\n",
            "\n",
            "See the caveats in the documentation: https://pandas.pydata.org/pandas-docs/stable/user_guide/indexing.html#returning-a-view-versus-a-copy\n",
            "  creedicuanti['precio'] = np.where(creedicuanti['precio'] > upper_bound1, upper_bound1, creedicuanti['precio'])\n",
            "<ipython-input-38-3be10e9433a2>:3: SettingWithCopyWarning: \n",
            "A value is trying to be set on a copy of a slice from a DataFrame.\n",
            "Try using .loc[row_indexer,col_indexer] = value instead\n",
            "\n",
            "See the caveats in the documentation: https://pandas.pydata.org/pandas-docs/stable/user_guide/indexing.html#returning-a-view-versus-a-copy\n",
            "  creedicuanti['precio'] = np.where(creedicuanti['precio'] < lower_bound1, lower_bound1, creedicuanti['precio'])\n"
          ]
        }
      ]
    },
    {
      "cell_type": "code",
      "source": [
        "q3 = creedicuanti['enganche'].quantile(0.25)\n",
        "q4 = creedicuanti['enganche'].quantile(0.75)\n",
        "iqr2 = q4 - q3\n",
        "\n",
        "lower_bound2 = q3 - 1.5 * iqr2\n",
        "upper_bound2 = q4 + 1.5 * iqr2\n"
      ],
      "metadata": {
        "id": "PuZnxkbhCgh9"
      },
      "execution_count": 39,
      "outputs": []
    },
    {
      "cell_type": "code",
      "source": [
        "creedicuanti['enganche'] = np.where(creedicuanti['enganche'] > upper_bound2, upper_bound2, creedicuanti['enganche'])\n",
        "\n",
        "creedicuanti['enganche'] = np.where(creedicuanti['enganche'] < lower_bound2, lower_bound2, creedicuanti['enganche'])"
      ],
      "metadata": {
        "colab": {
          "base_uri": "https://localhost:8080/"
        },
        "id": "ZI3-N9p_CjP4",
        "outputId": "7e2b0bcf-a26e-46d6-8b79-b7dca9682c7c"
      },
      "execution_count": 40,
      "outputs": [
        {
          "output_type": "stream",
          "name": "stderr",
          "text": [
            "<ipython-input-40-9c0f65297628>:1: SettingWithCopyWarning: \n",
            "A value is trying to be set on a copy of a slice from a DataFrame.\n",
            "Try using .loc[row_indexer,col_indexer] = value instead\n",
            "\n",
            "See the caveats in the documentation: https://pandas.pydata.org/pandas-docs/stable/user_guide/indexing.html#returning-a-view-versus-a-copy\n",
            "  creedicuanti['enganche'] = np.where(creedicuanti['enganche'] > upper_bound2, upper_bound2, creedicuanti['enganche'])\n",
            "<ipython-input-40-9c0f65297628>:3: SettingWithCopyWarning: \n",
            "A value is trying to be set on a copy of a slice from a DataFrame.\n",
            "Try using .loc[row_indexer,col_indexer] = value instead\n",
            "\n",
            "See the caveats in the documentation: https://pandas.pydata.org/pandas-docs/stable/user_guide/indexing.html#returning-a-view-versus-a-copy\n",
            "  creedicuanti['enganche'] = np.where(creedicuanti['enganche'] < lower_bound2, lower_bound2, creedicuanti['enganche'])\n"
          ]
        }
      ]
    },
    {
      "cell_type": "code",
      "source": [
        "q5 = creedicuanti['semana'].quantile(0.25)\n",
        "q6 = creedicuanti['semana'].quantile(0.75)\n",
        "iqr3 = q6 - q5\n",
        "\n",
        "lower_bound3 = q5 - 1.5 * iqr3\n",
        "upper_bound3 = q6 + 1.5 * iqr3"
      ],
      "metadata": {
        "id": "zsk9VoWMEb4W"
      },
      "execution_count": 41,
      "outputs": []
    },
    {
      "cell_type": "code",
      "source": [
        "creedicuanti['semana'] = np.where(creedicuanti['semana'] > upper_bound3, upper_bound3, creedicuanti['semana'])\n",
        "\n",
        "creedicuanti['semana'] = np.where(creedicuanti['semana'] < lower_bound3, lower_bound3, creedicuanti['semana'])"
      ],
      "metadata": {
        "colab": {
          "base_uri": "https://localhost:8080/"
        },
        "id": "Lnw97Ps-GT9O",
        "outputId": "e7875750-f3ef-4815-8b06-6ed4e878a68d"
      },
      "execution_count": 42,
      "outputs": [
        {
          "output_type": "stream",
          "name": "stderr",
          "text": [
            "<ipython-input-42-a1bd1cf4da6d>:1: SettingWithCopyWarning: \n",
            "A value is trying to be set on a copy of a slice from a DataFrame.\n",
            "Try using .loc[row_indexer,col_indexer] = value instead\n",
            "\n",
            "See the caveats in the documentation: https://pandas.pydata.org/pandas-docs/stable/user_guide/indexing.html#returning-a-view-versus-a-copy\n",
            "  creedicuanti['semana'] = np.where(creedicuanti['semana'] > upper_bound3, upper_bound3, creedicuanti['semana'])\n",
            "<ipython-input-42-a1bd1cf4da6d>:3: SettingWithCopyWarning: \n",
            "A value is trying to be set on a copy of a slice from a DataFrame.\n",
            "Try using .loc[row_indexer,col_indexer] = value instead\n",
            "\n",
            "See the caveats in the documentation: https://pandas.pydata.org/pandas-docs/stable/user_guide/indexing.html#returning-a-view-versus-a-copy\n",
            "  creedicuanti['semana'] = np.where(creedicuanti['semana'] < lower_bound3, lower_bound3, creedicuanti['semana'])\n"
          ]
        }
      ]
    },
    {
      "cell_type": "code",
      "source": [
        "q7 = creedicuanti['monto_financiado'].quantile(0.25)\n",
        "q8 = creedicuanti['monto_financiado'].quantile(0.75)\n",
        "iqr4 = q7 - q8\n",
        "\n",
        "lower_bound4 = q7 - 1.5 * iqr4\n",
        "upper_bound4 = q8 + 1.5 * iqr4"
      ],
      "metadata": {
        "id": "gngBI8O1Gwzf"
      },
      "execution_count": 43,
      "outputs": []
    },
    {
      "cell_type": "code",
      "source": [
        "creedicuanti['monto_financiado'] = np.where(creedicuanti['monto_financiado'] > upper_bound4, upper_bound4, creedicuanti['monto_financiado'])\n",
        "\n",
        "creedicuanti['monto_financiado'] = np.where(creedicuanti['monto_financiado'] < lower_bound4, lower_bound4, creedicuanti['monto_financiado'])"
      ],
      "metadata": {
        "colab": {
          "base_uri": "https://localhost:8080/"
        },
        "id": "ZDULFU4aG9Kw",
        "outputId": "6aa1955e-2329-4822-e343-00a8bd3b4da8"
      },
      "execution_count": 44,
      "outputs": [
        {
          "output_type": "stream",
          "name": "stderr",
          "text": [
            "<ipython-input-44-6c4aad4e1b1f>:1: SettingWithCopyWarning: \n",
            "A value is trying to be set on a copy of a slice from a DataFrame.\n",
            "Try using .loc[row_indexer,col_indexer] = value instead\n",
            "\n",
            "See the caveats in the documentation: https://pandas.pydata.org/pandas-docs/stable/user_guide/indexing.html#returning-a-view-versus-a-copy\n",
            "  creedicuanti['monto_financiado'] = np.where(creedicuanti['monto_financiado'] > upper_bound4, upper_bound4, creedicuanti['monto_financiado'])\n",
            "<ipython-input-44-6c4aad4e1b1f>:3: SettingWithCopyWarning: \n",
            "A value is trying to be set on a copy of a slice from a DataFrame.\n",
            "Try using .loc[row_indexer,col_indexer] = value instead\n",
            "\n",
            "See the caveats in the documentation: https://pandas.pydata.org/pandas-docs/stable/user_guide/indexing.html#returning-a-view-versus-a-copy\n",
            "  creedicuanti['monto_financiado'] = np.where(creedicuanti['monto_financiado'] < lower_bound4, lower_bound4, creedicuanti['monto_financiado'])\n"
          ]
        }
      ]
    },
    {
      "cell_type": "code",
      "source": [
        "q9 = creedicuanti['costo_total'].quantile(0.25)\n",
        "q10 = creedicuanti['costo_total'].quantile(0.75)\n",
        "iqr5 = q9 - q10\n",
        "\n",
        "lower_bound5 = q9 - 1.5 * iqr5\n",
        "upper_bound5 = q10 + 1.5 * iqr5"
      ],
      "metadata": {
        "id": "_nsJtCFTHWDI"
      },
      "execution_count": 45,
      "outputs": []
    },
    {
      "cell_type": "code",
      "source": [
        "creedicuanti['costo_total'] = np.where(creedicuanti['costo_total'] > upper_bound5, upper_bound5, creedicuanti['costo_total'])\n",
        "\n",
        "creedicuanti['costo_total'] = np.where(creedicuanti['costo_total'] < lower_bound5, lower_bound5, creedicuanti['costo_total'])"
      ],
      "metadata": {
        "colab": {
          "base_uri": "https://localhost:8080/"
        },
        "id": "uMfHxxROHgmH",
        "outputId": "28dfa9a0-8e06-4300-e45f-f24fd186bdd7"
      },
      "execution_count": 46,
      "outputs": [
        {
          "output_type": "stream",
          "name": "stderr",
          "text": [
            "<ipython-input-46-d77bd35ff1bf>:1: SettingWithCopyWarning: \n",
            "A value is trying to be set on a copy of a slice from a DataFrame.\n",
            "Try using .loc[row_indexer,col_indexer] = value instead\n",
            "\n",
            "See the caveats in the documentation: https://pandas.pydata.org/pandas-docs/stable/user_guide/indexing.html#returning-a-view-versus-a-copy\n",
            "  creedicuanti['costo_total'] = np.where(creedicuanti['costo_total'] > upper_bound5, upper_bound5, creedicuanti['costo_total'])\n",
            "<ipython-input-46-d77bd35ff1bf>:3: SettingWithCopyWarning: \n",
            "A value is trying to be set on a copy of a slice from a DataFrame.\n",
            "Try using .loc[row_indexer,col_indexer] = value instead\n",
            "\n",
            "See the caveats in the documentation: https://pandas.pydata.org/pandas-docs/stable/user_guide/indexing.html#returning-a-view-versus-a-copy\n",
            "  creedicuanti['costo_total'] = np.where(creedicuanti['costo_total'] < lower_bound5, lower_bound5, creedicuanti['costo_total'])\n"
          ]
        }
      ]
    },
    {
      "cell_type": "code",
      "source": [
        "q11 = creedicuanti['monto_accesorios'].quantile(0.25)\n",
        "q12 = creedicuanti['monto_accesorios'].quantile(0.75)\n",
        "iqr6 = q11 - q12\n",
        "\n",
        "lower_bound6 = q11 - 1.5 * iqr6\n",
        "upper_bound6 = q12 + 1.5 * iqr6"
      ],
      "metadata": {
        "id": "ZAoQfLdDI9uc"
      },
      "execution_count": 47,
      "outputs": []
    },
    {
      "cell_type": "code",
      "source": [
        "creedicuanti['monto_accesorios'] = np.where(creedicuanti['monto_accesorios'] > upper_bound6, upper_bound6, creedicuanti['monto_accesorios'])\n",
        "\n",
        "creedicuanti['monto_accesorios'] = np.where(creedicuanti['monto_accesorios'] < lower_bound6, lower_bound6, creedicuanti['monto_accesorios'])"
      ],
      "metadata": {
        "colab": {
          "base_uri": "https://localhost:8080/"
        },
        "id": "g85YQtxbJNRT",
        "outputId": "4b8a2438-6083-4814-9fde-46f4807a9a57"
      },
      "execution_count": 48,
      "outputs": [
        {
          "output_type": "stream",
          "name": "stderr",
          "text": [
            "<ipython-input-48-a5dbd5681ea7>:1: SettingWithCopyWarning: \n",
            "A value is trying to be set on a copy of a slice from a DataFrame.\n",
            "Try using .loc[row_indexer,col_indexer] = value instead\n",
            "\n",
            "See the caveats in the documentation: https://pandas.pydata.org/pandas-docs/stable/user_guide/indexing.html#returning-a-view-versus-a-copy\n",
            "  creedicuanti['monto_accesorios'] = np.where(creedicuanti['monto_accesorios'] > upper_bound6, upper_bound6, creedicuanti['monto_accesorios'])\n",
            "<ipython-input-48-a5dbd5681ea7>:3: SettingWithCopyWarning: \n",
            "A value is trying to be set on a copy of a slice from a DataFrame.\n",
            "Try using .loc[row_indexer,col_indexer] = value instead\n",
            "\n",
            "See the caveats in the documentation: https://pandas.pydata.org/pandas-docs/stable/user_guide/indexing.html#returning-a-view-versus-a-copy\n",
            "  creedicuanti['monto_accesorios'] = np.where(creedicuanti['monto_accesorios'] < lower_bound6, lower_bound6, creedicuanti['monto_accesorios'])\n"
          ]
        }
      ]
    },
    {
      "cell_type": "code",
      "source": [
        "cuali=[['folio','tag','folio_solicitud','fecha','marca','modelo','plazo','agente_venta','dis_venta','empresa','fecha_ultimo_pago','fecha_pago_proximo','status_cuenta','razones_buro','semana_actual','codigo_postal','riesgo_categorizado']]"
      ],
      "metadata": {
        "id": "3qTUQcMEIZL2"
      },
      "execution_count": 49,
      "outputs": []
    },
    {
      "cell_type": "code",
      "source": [
        "credi= pd.concat([creedicuanti,cuali], axis=1)\n",
        "credi"
      ],
      "metadata": {
        "colab": {
          "base_uri": "https://localhost:8080/",
          "height": 363
        },
        "id": "EshaTuMSKqG-",
        "outputId": "c4dbe771-f0cc-4c75-e911-cfda9910041c"
      },
      "execution_count": 50,
      "outputs": [
        {
          "output_type": "error",
          "ename": "TypeError",
          "evalue": "ignored",
          "traceback": [
            "\u001b[0;31m---------------------------------------------------------------------------\u001b[0m",
            "\u001b[0;31mTypeError\u001b[0m                                 Traceback (most recent call last)",
            "\u001b[0;32m<ipython-input-50-d3ca769e70d2>\u001b[0m in \u001b[0;36m<cell line: 1>\u001b[0;34m()\u001b[0m\n\u001b[0;32m----> 1\u001b[0;31m \u001b[0mcredi\u001b[0m\u001b[0;34m=\u001b[0m \u001b[0mpd\u001b[0m\u001b[0;34m.\u001b[0m\u001b[0mconcat\u001b[0m\u001b[0;34m(\u001b[0m\u001b[0;34m[\u001b[0m\u001b[0mcreedicuanti\u001b[0m\u001b[0;34m,\u001b[0m\u001b[0mcuali\u001b[0m\u001b[0;34m]\u001b[0m\u001b[0;34m,\u001b[0m \u001b[0maxis\u001b[0m\u001b[0;34m=\u001b[0m\u001b[0;36m1\u001b[0m\u001b[0;34m)\u001b[0m\u001b[0;34m\u001b[0m\u001b[0;34m\u001b[0m\u001b[0m\n\u001b[0m\u001b[1;32m      2\u001b[0m \u001b[0mcredi\u001b[0m\u001b[0;34m\u001b[0m\u001b[0;34m\u001b[0m\u001b[0m\n",
            "\u001b[0;32m/usr/local/lib/python3.10/dist-packages/pandas/util/_decorators.py\u001b[0m in \u001b[0;36mwrapper\u001b[0;34m(*args, **kwargs)\u001b[0m\n\u001b[1;32m    329\u001b[0m                     \u001b[0mstacklevel\u001b[0m\u001b[0;34m=\u001b[0m\u001b[0mfind_stack_level\u001b[0m\u001b[0;34m(\u001b[0m\u001b[0;34m)\u001b[0m\u001b[0;34m,\u001b[0m\u001b[0;34m\u001b[0m\u001b[0;34m\u001b[0m\u001b[0m\n\u001b[1;32m    330\u001b[0m                 )\n\u001b[0;32m--> 331\u001b[0;31m             \u001b[0;32mreturn\u001b[0m \u001b[0mfunc\u001b[0m\u001b[0;34m(\u001b[0m\u001b[0;34m*\u001b[0m\u001b[0margs\u001b[0m\u001b[0;34m,\u001b[0m \u001b[0;34m**\u001b[0m\u001b[0mkwargs\u001b[0m\u001b[0;34m)\u001b[0m\u001b[0;34m\u001b[0m\u001b[0;34m\u001b[0m\u001b[0m\n\u001b[0m\u001b[1;32m    332\u001b[0m \u001b[0;34m\u001b[0m\u001b[0m\n\u001b[1;32m    333\u001b[0m         \u001b[0;31m# error: \"Callable[[VarArg(Any), KwArg(Any)], Any]\" has no\u001b[0m\u001b[0;34m\u001b[0m\u001b[0;34m\u001b[0m\u001b[0m\n",
            "\u001b[0;32m/usr/local/lib/python3.10/dist-packages/pandas/core/reshape/concat.py\u001b[0m in \u001b[0;36mconcat\u001b[0;34m(objs, axis, join, ignore_index, keys, levels, names, verify_integrity, sort, copy)\u001b[0m\n\u001b[1;32m    366\u001b[0m     \u001b[0;36m1\u001b[0m   \u001b[0;36m3\u001b[0m   \u001b[0;36m4\u001b[0m\u001b[0;34m\u001b[0m\u001b[0;34m\u001b[0m\u001b[0m\n\u001b[1;32m    367\u001b[0m     \"\"\"\n\u001b[0;32m--> 368\u001b[0;31m     op = _Concatenator(\n\u001b[0m\u001b[1;32m    369\u001b[0m         \u001b[0mobjs\u001b[0m\u001b[0;34m,\u001b[0m\u001b[0;34m\u001b[0m\u001b[0;34m\u001b[0m\u001b[0m\n\u001b[1;32m    370\u001b[0m         \u001b[0maxis\u001b[0m\u001b[0;34m=\u001b[0m\u001b[0maxis\u001b[0m\u001b[0;34m,\u001b[0m\u001b[0;34m\u001b[0m\u001b[0;34m\u001b[0m\u001b[0m\n",
            "\u001b[0;32m/usr/local/lib/python3.10/dist-packages/pandas/core/reshape/concat.py\u001b[0m in \u001b[0;36m__init__\u001b[0;34m(self, objs, axis, join, keys, levels, names, ignore_index, verify_integrity, copy, sort)\u001b[0m\n\u001b[1;32m    456\u001b[0m                     \u001b[0;34m\"only Series and DataFrame objs are valid\"\u001b[0m\u001b[0;34m\u001b[0m\u001b[0;34m\u001b[0m\u001b[0m\n\u001b[1;32m    457\u001b[0m                 )\n\u001b[0;32m--> 458\u001b[0;31m                 \u001b[0;32mraise\u001b[0m \u001b[0mTypeError\u001b[0m\u001b[0;34m(\u001b[0m\u001b[0mmsg\u001b[0m\u001b[0;34m)\u001b[0m\u001b[0;34m\u001b[0m\u001b[0;34m\u001b[0m\u001b[0m\n\u001b[0m\u001b[1;32m    459\u001b[0m \u001b[0;34m\u001b[0m\u001b[0m\n\u001b[1;32m    460\u001b[0m             \u001b[0mndims\u001b[0m\u001b[0;34m.\u001b[0m\u001b[0madd\u001b[0m\u001b[0;34m(\u001b[0m\u001b[0mobj\u001b[0m\u001b[0;34m.\u001b[0m\u001b[0mndim\u001b[0m\u001b[0;34m)\u001b[0m\u001b[0;34m\u001b[0m\u001b[0;34m\u001b[0m\u001b[0m\n",
            "\u001b[0;31mTypeError\u001b[0m: cannot concatenate object of type '<class 'list'>'; only Series and DataFrame objs are valid"
          ]
        }
      ]
    },
    {
      "cell_type": "code",
      "source": [
        "credi.to_csv('Propuesta uno')"
      ],
      "metadata": {
        "id": "TQt-3FvlzaDx"
      },
      "execution_count": 51,
      "outputs": []
    }
  ]
}